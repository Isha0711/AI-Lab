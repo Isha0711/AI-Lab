{
 "cells": [
  {
   "cell_type": "code",
   "execution_count": 40,
   "metadata": {},
   "outputs": [
    {
     "name": "stdout",
     "output_type": "stream",
     "text": [
      "Prime numbers between 1 and 10: [2, 3, 5, 7]\n"
     ]
    }
   ],
   "source": [
    "# 1. Write a program to find prime number with in a range using function.\n",
    "\n",
    "def is_prime(num):\n",
    "    if num < 2:\n",
    "        return False\n",
    "    for i in range(2, num//2+1):\n",
    "        if num % i == 0:\n",
    "            return False\n",
    "    return True\n",
    "\n",
    "def P_range(start, end):\n",
    "    primes = [num for num in range(start, end + 1) if is_prime(num)]\n",
    "    return primes\n",
    "\n",
    "start_range = int(input(\"Enter the start of the range: \"))\n",
    "end_range = int(input(\"Enter the end of the range: \"))\n",
    "\n",
    "prime_numbers = P_range(start_range, end_range)\n",
    "print(f\"Prime numbers between {start_range} and {end_range}: {prime_numbers}\")"
   ]
  },
  {
   "cell_type": "code",
   "execution_count": 18,
   "metadata": {},
   "outputs": [
    {
     "name": "stdout",
     "output_type": "stream",
     "text": [
      "121 is Palindrome\n"
     ]
    }
   ],
   "source": [
    "#2. Write a program to check palindrome.\n",
    "\n",
    "def check_palin(num):\n",
    "    if num<=0:\n",
    "        return False\n",
    "    temp = 0\n",
    "    n = num\n",
    "    while (num>0):\n",
    "        rem = num % 10\n",
    "        temp = temp * 10 + rem\n",
    "        num = num//10 \n",
    "    if (temp==n):    \n",
    "        return True\n",
    "\n",
    "num = int(input(\"Enter a number: \"))\n",
    "if check_palin(num):\n",
    "    print(f\"{num} is Palindrome\") \n",
    "else:\n",
    "    print(f\"{num} is not Palindrome\")\n"
   ]
  },
  {
   "cell_type": "code",
   "execution_count": 34,
   "metadata": {},
   "outputs": [
    {
     "name": "stdout",
     "output_type": "stream",
     "text": [
      "The fibonacci sequence of 5 is:\n",
      "0\n",
      "1\n",
      "1\n",
      "2\n",
      "3\n"
     ]
    }
   ],
   "source": [
    "#3. Write a program to generate the Fibonacci sequence of a given number.\n",
    "\n",
    "def fib_seq(num):\n",
    "    a=0\n",
    "    b=1\n",
    "    n=0\n",
    "    while (n<=num):\n",
    "        print (a) \n",
    "        temp = a + b \n",
    "        a=b \n",
    "        b=temp \n",
    "        n=b  \n",
    "num= int(input(\"Enter the number: \"))\n",
    "print(f\"The fibonacci sequence of {num} is:\")\n",
    "fib_seq(num)"
   ]
  },
  {
   "cell_type": "code",
   "execution_count": 38,
   "metadata": {},
   "outputs": [
    {
     "name": "stdout",
     "output_type": "stream",
     "text": [
      "Welcome to the Number Guessing Game!\n",
      "I've picked a random number between 1 and 100. Try to guess it!\n",
      "\n",
      "34 is too high! Try a lower number.\n",
      "23 is too low! Try a higher number.\n",
      "32 is too low! Try a higher number.\n",
      "32 is too low! Try a higher number.\n",
      "Congratulations! You guessed the correct number 33 in 5 attempts.\n"
     ]
    }
   ],
   "source": [
    "#4. Create a number guessing game. Where you have to generate a random number in between 1 to 100 and user have to prompt a number for guess. If it's high or low number let the user know and guide them through the process to guess correct number.\n",
    "\n",
    "import random\n",
    "rand_num = random.randint(1, 100)\n",
    "\n",
    "attempts = 0\n",
    "\n",
    "print(\"Welcome to the Number Guessing Game!\")\n",
    "print(\"I've picked a random number between 1 and 100. Try to guess it!\\n\")\n",
    "\n",
    "while True:\n",
    " \n",
    "    user_guess = int(input(\"Enter your guess: \"))\n",
    "    attempts = attempts + 1\n",
    "        \n",
    "    if user_guess == rand_num:\n",
    "     \n",
    "        print(f\"Congratulations! You guessed the correct number {rand_num} in {attempts} attempts.\")\n",
    "        break\n",
    "       \n",
    "    elif user_guess < rand_num:\n",
    "        print(f\"{user_guess} is too low! Try a higher number.\")\n",
    "        \n",
    "    else:\n",
    "        print(f\"{user_guess} is too high! Try a lower number.\")"
   ]
  }
 ],
 "metadata": {
  "kernelspec": {
   "display_name": "Python 3.11.6 64-bit",
   "language": "python",
   "name": "python3"
  },
  "language_info": {
   "codemirror_mode": {
    "name": "ipython",
    "version": 3
   },
   "file_extension": ".py",
   "mimetype": "text/x-python",
   "name": "python",
   "nbconvert_exporter": "python",
   "pygments_lexer": "ipython3",
   "version": "3.11.6"
  },
  "orig_nbformat": 4,
  "vscode": {
   "interpreter": {
    "hash": "b0fa6594d8f4cbf19f97940f81e996739fb7646882a419484c72d19e05852a7e"
   }
  }
 },
 "nbformat": 4,
 "nbformat_minor": 2
}
